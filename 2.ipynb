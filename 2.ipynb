{
 "cells": [
  {
   "cell_type": "code",
   "execution_count": 1,
   "id": "b649e290",
   "metadata": {},
   "outputs": [
    {
     "name": "stdout",
     "output_type": "stream",
     "text": [
      "Hello word\n"
     ]
    }
   ],
   "source": [
    "print(\"Hello word\")"
   ]
  },
  {
   "cell_type": "code",
   "execution_count": null,
   "id": "5aaf658d",
   "metadata": {},
   "outputs": [],
   "source": [
    "# Variables"
   ]
  },
  {
   "cell_type": "code",
   "execution_count": 4,
   "id": "644cb083",
   "metadata": {},
   "outputs": [],
   "source": [
    "student = \"sam\""
   ]
  },
  {
   "cell_type": "code",
   "execution_count": 5,
   "id": "2acdbc0d",
   "metadata": {},
   "outputs": [
    {
     "data": {
      "text/plain": [
       "'sam'"
      ]
     },
     "execution_count": 5,
     "metadata": {},
     "output_type": "execute_result"
    }
   ],
   "source": [
    "student"
   ]
  },
  {
   "cell_type": "code",
   "execution_count": 6,
   "id": "aa70d88a",
   "metadata": {},
   "outputs": [],
   "source": [
    "student = \"John\""
   ]
  },
  {
   "cell_type": "code",
   "execution_count": 7,
   "id": "d6b87ad2",
   "metadata": {},
   "outputs": [
    {
     "data": {
      "text/plain": [
       "'John'"
      ]
     },
     "execution_count": 7,
     "metadata": {},
     "output_type": "execute_result"
    }
   ],
   "source": [
    "student"
   ]
  },
  {
   "cell_type": "code",
   "execution_count": 8,
   "id": "1c91e396",
   "metadata": {},
   "outputs": [],
   "source": [
    "student = \"Rahi\""
   ]
  },
  {
   "cell_type": "code",
   "execution_count": 9,
   "id": "216d989a",
   "metadata": {},
   "outputs": [
    {
     "data": {
      "text/plain": [
       "'Rahi'"
      ]
     },
     "execution_count": 9,
     "metadata": {},
     "output_type": "execute_result"
    }
   ],
   "source": [
    "student"
   ]
  },
  {
   "cell_type": "code",
   "execution_count": null,
   "id": "d29f5854",
   "metadata": {},
   "outputs": [],
   "source": [
    "# Data Types - int , float , Boolean , string , complex"
   ]
  },
  {
   "cell_type": "code",
   "execution_count": null,
   "id": "ae908032",
   "metadata": {},
   "outputs": [],
   "source": [
    "# int"
   ]
  },
  {
   "cell_type": "code",
   "execution_count": 10,
   "id": "8b432872",
   "metadata": {},
   "outputs": [],
   "source": [
    "a1 = 10"
   ]
  },
  {
   "cell_type": "code",
   "execution_count": 11,
   "id": "7a354979",
   "metadata": {},
   "outputs": [
    {
     "data": {
      "text/plain": [
       "10"
      ]
     },
     "execution_count": 11,
     "metadata": {},
     "output_type": "execute_result"
    }
   ],
   "source": [
    "a1"
   ]
  },
  {
   "cell_type": "code",
   "execution_count": 15,
   "id": "5984e219",
   "metadata": {},
   "outputs": [
    {
     "ename": "NameError",
     "evalue": "name 'Type' is not defined",
     "output_type": "error",
     "traceback": [
      "\u001b[1;31m---------------------------------------------------------------------------\u001b[0m",
      "\u001b[1;31mNameError\u001b[0m                                 Traceback (most recent call last)",
      "\u001b[1;32m~\\AppData\\Local\\Temp\\ipykernel_73732\\1635660135.py\u001b[0m in \u001b[0;36m<module>\u001b[1;34m\u001b[0m\n\u001b[1;32m----> 1\u001b[1;33m \u001b[0mType\u001b[0m\u001b[1;33m(\u001b[0m\u001b[0ma1\u001b[0m\u001b[1;33m)\u001b[0m\u001b[1;33m\u001b[0m\u001b[1;33m\u001b[0m\u001b[0m\n\u001b[0m",
      "\u001b[1;31mNameError\u001b[0m: name 'Type' is not defined"
     ]
    }
   ],
   "source": [
    "Type(a1)"
   ]
  },
  {
   "cell_type": "code",
   "execution_count": 16,
   "id": "cda4c16a",
   "metadata": {},
   "outputs": [
    {
     "data": {
      "text/plain": [
       "int"
      ]
     },
     "execution_count": 16,
     "metadata": {},
     "output_type": "execute_result"
    }
   ],
   "source": [
    "type(a1)"
   ]
  },
  {
   "cell_type": "code",
   "execution_count": 17,
   "id": "d5e92d3b",
   "metadata": {},
   "outputs": [],
   "source": [
    "a1 = 3.14"
   ]
  },
  {
   "cell_type": "code",
   "execution_count": 18,
   "id": "5cd1d474",
   "metadata": {},
   "outputs": [
    {
     "data": {
      "text/plain": [
       "3.14"
      ]
     },
     "execution_count": 18,
     "metadata": {},
     "output_type": "execute_result"
    }
   ],
   "source": [
    "a1"
   ]
  },
  {
   "cell_type": "code",
   "execution_count": 19,
   "id": "7bb822db",
   "metadata": {},
   "outputs": [
    {
     "data": {
      "text/plain": [
       "float"
      ]
     },
     "execution_count": 19,
     "metadata": {},
     "output_type": "execute_result"
    }
   ],
   "source": [
    "type(a1)"
   ]
  },
  {
   "cell_type": "code",
   "execution_count": 20,
   "id": "ec5aecd3",
   "metadata": {},
   "outputs": [],
   "source": [
    "a1 = True"
   ]
  },
  {
   "cell_type": "code",
   "execution_count": 21,
   "id": "b6733d01",
   "metadata": {},
   "outputs": [
    {
     "data": {
      "text/plain": [
       "True"
      ]
     },
     "execution_count": 21,
     "metadata": {},
     "output_type": "execute_result"
    }
   ],
   "source": [
    "a1"
   ]
  },
  {
   "cell_type": "code",
   "execution_count": 22,
   "id": "21320b6f",
   "metadata": {},
   "outputs": [
    {
     "data": {
      "text/plain": [
       "bool"
      ]
     },
     "execution_count": 22,
     "metadata": {},
     "output_type": "execute_result"
    }
   ],
   "source": [
    "type(a1)"
   ]
  },
  {
   "cell_type": "code",
   "execution_count": 23,
   "id": "d75eb2d3",
   "metadata": {},
   "outputs": [],
   "source": [
    "a1 = \"Hello word\""
   ]
  },
  {
   "cell_type": "code",
   "execution_count": 24,
   "id": "c28f81a6",
   "metadata": {},
   "outputs": [
    {
     "data": {
      "text/plain": [
       "'Hello word'"
      ]
     },
     "execution_count": 24,
     "metadata": {},
     "output_type": "execute_result"
    }
   ],
   "source": [
    "a1"
   ]
  },
  {
   "cell_type": "code",
   "execution_count": 25,
   "id": "008cd1f1",
   "metadata": {},
   "outputs": [
    {
     "data": {
      "text/plain": [
       "str"
      ]
     },
     "execution_count": 25,
     "metadata": {},
     "output_type": "execute_result"
    }
   ],
   "source": [
    "type(a1)"
   ]
  },
  {
   "cell_type": "code",
   "execution_count": 26,
   "id": "18051acc",
   "metadata": {},
   "outputs": [],
   "source": [
    "a1 = 3+1j"
   ]
  },
  {
   "cell_type": "code",
   "execution_count": 27,
   "id": "8d5cdbbb",
   "metadata": {},
   "outputs": [
    {
     "data": {
      "text/plain": [
       "(3+1j)"
      ]
     },
     "execution_count": 27,
     "metadata": {},
     "output_type": "execute_result"
    }
   ],
   "source": [
    "a1"
   ]
  },
  {
   "cell_type": "code",
   "execution_count": 28,
   "id": "d047bf97",
   "metadata": {},
   "outputs": [
    {
     "data": {
      "text/plain": [
       "complex"
      ]
     },
     "execution_count": 28,
     "metadata": {},
     "output_type": "execute_result"
    }
   ],
   "source": [
    "type(a1)"
   ]
  },
  {
   "cell_type": "code",
   "execution_count": null,
   "id": "26ec70d8",
   "metadata": {},
   "outputs": [],
   "source": [
    "# Arithemetic Operator , Rational Operator , Logical Operator"
   ]
  },
  {
   "cell_type": "code",
   "execution_count": null,
   "id": "c52f9d3f",
   "metadata": {},
   "outputs": [],
   "source": [
    "#Arithemetic Operator - + , - , / , *"
   ]
  },
  {
   "cell_type": "code",
   "execution_count": 30,
   "id": "71fa3941",
   "metadata": {},
   "outputs": [],
   "source": [
    "a = 10\n",
    "b = 20"
   ]
  },
  {
   "cell_type": "code",
   "execution_count": 31,
   "id": "d25d5a32",
   "metadata": {},
   "outputs": [
    {
     "data": {
      "text/plain": [
       "(10, 20)"
      ]
     },
     "execution_count": 31,
     "metadata": {},
     "output_type": "execute_result"
    }
   ],
   "source": [
    "a,b"
   ]
  },
  {
   "cell_type": "code",
   "execution_count": 32,
   "id": "a27d2bd5",
   "metadata": {},
   "outputs": [
    {
     "data": {
      "text/plain": [
       "30"
      ]
     },
     "execution_count": 32,
     "metadata": {},
     "output_type": "execute_result"
    }
   ],
   "source": [
    "a+b"
   ]
  },
  {
   "cell_type": "code",
   "execution_count": 33,
   "id": "043fff63",
   "metadata": {},
   "outputs": [
    {
     "data": {
      "text/plain": [
       "-10"
      ]
     },
     "execution_count": 33,
     "metadata": {},
     "output_type": "execute_result"
    }
   ],
   "source": [
    "a-b"
   ]
  },
  {
   "cell_type": "code",
   "execution_count": 34,
   "id": "f460f45d",
   "metadata": {},
   "outputs": [
    {
     "data": {
      "text/plain": [
       "200"
      ]
     },
     "execution_count": 34,
     "metadata": {},
     "output_type": "execute_result"
    }
   ],
   "source": [
    "a*b"
   ]
  },
  {
   "cell_type": "code",
   "execution_count": 36,
   "id": "8a589953",
   "metadata": {},
   "outputs": [
    {
     "data": {
      "text/plain": [
       "0.5"
      ]
     },
     "execution_count": 36,
     "metadata": {},
     "output_type": "execute_result"
    }
   ],
   "source": [
    "a/b"
   ]
  },
  {
   "cell_type": "code",
   "execution_count": null,
   "id": "3e9d5239",
   "metadata": {},
   "outputs": [],
   "source": [
    "# Relational Operator - < , > , == , !="
   ]
  },
  {
   "cell_type": "code",
   "execution_count": 37,
   "id": "e741be85",
   "metadata": {},
   "outputs": [],
   "source": [
    "a = 50\n",
    "b = 100"
   ]
  },
  {
   "cell_type": "code",
   "execution_count": 38,
   "id": "217ac68f",
   "metadata": {},
   "outputs": [
    {
     "data": {
      "text/plain": [
       "False"
      ]
     },
     "execution_count": 38,
     "metadata": {},
     "output_type": "execute_result"
    }
   ],
   "source": [
    "a>b"
   ]
  },
  {
   "cell_type": "code",
   "execution_count": 39,
   "id": "6a576cea",
   "metadata": {},
   "outputs": [
    {
     "data": {
      "text/plain": [
       "True"
      ]
     },
     "execution_count": 39,
     "metadata": {},
     "output_type": "execute_result"
    }
   ],
   "source": [
    "a<b"
   ]
  },
  {
   "cell_type": "code",
   "execution_count": 40,
   "id": "4fb7fc1d",
   "metadata": {},
   "outputs": [
    {
     "data": {
      "text/plain": [
       "False"
      ]
     },
     "execution_count": 40,
     "metadata": {},
     "output_type": "execute_result"
    }
   ],
   "source": [
    "a==b"
   ]
  },
  {
   "cell_type": "code",
   "execution_count": 41,
   "id": "bd0a3f29",
   "metadata": {},
   "outputs": [
    {
     "data": {
      "text/plain": [
       "True"
      ]
     },
     "execution_count": 41,
     "metadata": {},
     "output_type": "execute_result"
    }
   ],
   "source": [
    "a!=b"
   ]
  },
  {
   "cell_type": "code",
   "execution_count": null,
   "id": "c4187ecf",
   "metadata": {},
   "outputs": [],
   "source": [
    "# Logical Operator - & , |"
   ]
  },
  {
   "cell_type": "code",
   "execution_count": 42,
   "id": "205f7a4e",
   "metadata": {},
   "outputs": [],
   "source": [
    "a = True\n",
    "b = False"
   ]
  },
  {
   "cell_type": "code",
   "execution_count": 44,
   "id": "cdc2e3d8",
   "metadata": {},
   "outputs": [
    {
     "data": {
      "text/plain": [
       "True"
      ]
     },
     "execution_count": 44,
     "metadata": {},
     "output_type": "execute_result"
    }
   ],
   "source": [
    "a&a"
   ]
  },
  {
   "cell_type": "code",
   "execution_count": 45,
   "id": "b3511307",
   "metadata": {},
   "outputs": [
    {
     "data": {
      "text/plain": [
       "False"
      ]
     },
     "execution_count": 45,
     "metadata": {},
     "output_type": "execute_result"
    }
   ],
   "source": [
    "a&b"
   ]
  },
  {
   "cell_type": "code",
   "execution_count": 46,
   "id": "9e5f4d7b",
   "metadata": {},
   "outputs": [
    {
     "data": {
      "text/plain": [
       "True"
      ]
     },
     "execution_count": 46,
     "metadata": {},
     "output_type": "execute_result"
    }
   ],
   "source": [
    "a|b"
   ]
  },
  {
   "cell_type": "code",
   "execution_count": 47,
   "id": "c90ea9c7",
   "metadata": {},
   "outputs": [
    {
     "data": {
      "text/plain": [
       "True"
      ]
     },
     "execution_count": 47,
     "metadata": {},
     "output_type": "execute_result"
    }
   ],
   "source": [
    "b|a"
   ]
  },
  {
   "cell_type": "code",
   "execution_count": 48,
   "id": "698e055a",
   "metadata": {},
   "outputs": [
    {
     "data": {
      "text/plain": [
       "True"
      ]
     },
     "execution_count": 48,
     "metadata": {},
     "output_type": "execute_result"
    }
   ],
   "source": [
    "a|a"
   ]
  },
  {
   "cell_type": "code",
   "execution_count": 49,
   "id": "8df8f3eb",
   "metadata": {},
   "outputs": [
    {
     "data": {
      "text/plain": [
       "False"
      ]
     },
     "execution_count": 49,
     "metadata": {},
     "output_type": "execute_result"
    }
   ],
   "source": [
    "b|b"
   ]
  },
  {
   "cell_type": "code",
   "execution_count": null,
   "id": "31028027",
   "metadata": {},
   "outputs": [],
   "source": [
    "#Python Tokens"
   ]
  },
  {
   "cell_type": "code",
   "execution_count": null,
   "id": "2e7c6d88",
   "metadata": {},
   "outputs": [],
   "source": [
    "# Keywords"
   ]
  },
  {
   "cell_type": "code",
   "execution_count": 51,
   "id": "9fcb8da8",
   "metadata": {},
   "outputs": [
    {
     "data": {
      "text/plain": [
       "True"
      ]
     },
     "execution_count": 51,
     "metadata": {},
     "output_type": "execute_result"
    }
   ],
   "source": [
    "True"
   ]
  },
  {
   "cell_type": "code",
   "execution_count": 53,
   "id": "6928d98d",
   "metadata": {},
   "outputs": [],
   "source": [
    "Student = \"Sam\""
   ]
  },
  {
   "cell_type": "code",
   "execution_count": 54,
   "id": "cf074bb8",
   "metadata": {},
   "outputs": [],
   "source": [
    "student = \"Julie\""
   ]
  },
  {
   "cell_type": "code",
   "execution_count": 55,
   "id": "9a3c90b8",
   "metadata": {},
   "outputs": [
    {
     "data": {
      "text/plain": [
       "'Sam'"
      ]
     },
     "execution_count": 55,
     "metadata": {},
     "output_type": "execute_result"
    }
   ],
   "source": [
    "Student"
   ]
  },
  {
   "cell_type": "code",
   "execution_count": 57,
   "id": "7dad6c4c",
   "metadata": {},
   "outputs": [
    {
     "data": {
      "text/plain": [
       "'John'"
      ]
     },
     "execution_count": 57,
     "metadata": {},
     "output_type": "execute_result"
    }
   ],
   "source": [
    "student"
   ]
  },
  {
   "cell_type": "code",
   "execution_count": null,
   "id": "3a93de56",
   "metadata": {},
   "outputs": [],
   "source": [
    "# Literals - I Dont change value"
   ]
  },
  {
   "cell_type": "code",
   "execution_count": null,
   "id": "eb682fbd",
   "metadata": {},
   "outputs": [],
   "source": [
    "a = \"Hello Word\""
   ]
  },
  {
   "cell_type": "code",
   "execution_count": null,
   "id": "1bf88d99",
   "metadata": {},
   "outputs": [],
   "source": [
    "a = 3.14"
   ]
  },
  {
   "cell_type": "code",
   "execution_count": null,
   "id": "f4dc19a1",
   "metadata": {},
   "outputs": [],
   "source": [
    "# Strings"
   ]
  },
  {
   "cell_type": "code",
   "execution_count": 60,
   "id": "bd81da1c",
   "metadata": {},
   "outputs": [],
   "source": [
    "str1 = 'this is my first string'"
   ]
  },
  {
   "cell_type": "code",
   "execution_count": 61,
   "id": "e5a38a97",
   "metadata": {},
   "outputs": [
    {
     "data": {
      "text/plain": [
       "'this is my first string'"
      ]
     },
     "execution_count": 61,
     "metadata": {},
     "output_type": "execute_result"
    }
   ],
   "source": [
    "str1"
   ]
  },
  {
   "cell_type": "code",
   "execution_count": 62,
   "id": "2415ea7d",
   "metadata": {},
   "outputs": [],
   "source": [
    "str2 = \"this is my second string\""
   ]
  },
  {
   "cell_type": "code",
   "execution_count": 63,
   "id": "4ca93574",
   "metadata": {},
   "outputs": [
    {
     "data": {
      "text/plain": [
       "'this is my second string'"
      ]
     },
     "execution_count": 63,
     "metadata": {},
     "output_type": "execute_result"
    }
   ],
   "source": [
    "str2"
   ]
  },
  {
   "cell_type": "code",
   "execution_count": 65,
   "id": "f1ca3a40",
   "metadata": {},
   "outputs": [],
   "source": [
    "str3 = '''this string\n",
    "has lot of \n",
    "lines it\n",
    "'''"
   ]
  },
  {
   "cell_type": "code",
   "execution_count": 66,
   "id": "bf7f11f5",
   "metadata": {},
   "outputs": [
    {
     "data": {
      "text/plain": [
       "'this string\\nhas lot of \\nlines it\\n'"
      ]
     },
     "execution_count": 66,
     "metadata": {},
     "output_type": "execute_result"
    }
   ],
   "source": [
    "str3"
   ]
  },
  {
   "cell_type": "code",
   "execution_count": null,
   "id": "a1ed26e5",
   "metadata": {},
   "outputs": [],
   "source": []
  },
  {
   "cell_type": "code",
   "execution_count": null,
   "id": "ec669dd5",
   "metadata": {},
   "outputs": [],
   "source": [
    "# Extracting Individual character"
   ]
  },
  {
   "cell_type": "code",
   "execution_count": 79,
   "id": "3bec651b",
   "metadata": {},
   "outputs": [],
   "source": [
    "# In Python indexing start with zero (0)\n",
    "# Use squae brases\n",
    "# In Python last value is not inclusive"
   ]
  },
  {
   "cell_type": "code",
   "execution_count": 67,
   "id": "5b32efc9",
   "metadata": {},
   "outputs": [],
   "source": [
    "my_string = \"This is sparta\""
   ]
  },
  {
   "cell_type": "code",
   "execution_count": 68,
   "id": "fa727eb9",
   "metadata": {},
   "outputs": [
    {
     "data": {
      "text/plain": [
       "'This is sparta'"
      ]
     },
     "execution_count": 68,
     "metadata": {},
     "output_type": "execute_result"
    }
   ],
   "source": [
    "my_string"
   ]
  },
  {
   "cell_type": "code",
   "execution_count": 73,
   "id": "f2f21c43",
   "metadata": {},
   "outputs": [
    {
     "data": {
      "text/plain": [
       "'T'"
      ]
     },
     "execution_count": 73,
     "metadata": {},
     "output_type": "execute_result"
    }
   ],
   "source": [
    "my_string[0]"
   ]
  },
  {
   "cell_type": "code",
   "execution_count": 75,
   "id": "0244362d",
   "metadata": {},
   "outputs": [
    {
     "data": {
      "text/plain": [
       "'a'"
      ]
     },
     "execution_count": 75,
     "metadata": {},
     "output_type": "execute_result"
    }
   ],
   "source": [
    "my_string[-1]"
   ]
  },
  {
   "cell_type": "code",
   "execution_count": 77,
   "id": "84255c45",
   "metadata": {},
   "outputs": [
    {
     "data": {
      "text/plain": [
       "'is spa'"
      ]
     },
     "execution_count": 77,
     "metadata": {},
     "output_type": "execute_result"
    }
   ],
   "source": [
    "my_string[5:11]"
   ]
  },
  {
   "cell_type": "code",
   "execution_count": 80,
   "id": "b9022924",
   "metadata": {},
   "outputs": [],
   "source": [
    "# String Functions"
   ]
  },
  {
   "cell_type": "code",
   "execution_count": 84,
   "id": "ef4252d3",
   "metadata": {},
   "outputs": [
    {
     "data": {
      "text/plain": [
       "'This is sparta'"
      ]
     },
     "execution_count": 84,
     "metadata": {},
     "output_type": "execute_result"
    }
   ],
   "source": [
    "my_string = \"This is sparta\"\n",
    "my_string"
   ]
  },
  {
   "cell_type": "code",
   "execution_count": 85,
   "id": "120cea07",
   "metadata": {},
   "outputs": [
    {
     "data": {
      "text/plain": [
       "14"
      ]
     },
     "execution_count": 85,
     "metadata": {},
     "output_type": "execute_result"
    }
   ],
   "source": [
    "len(my_string)"
   ]
  },
  {
   "cell_type": "code",
   "execution_count": 86,
   "id": "591e471d",
   "metadata": {},
   "outputs": [
    {
     "data": {
      "text/plain": [
       "'this is sparta'"
      ]
     },
     "execution_count": 86,
     "metadata": {},
     "output_type": "execute_result"
    }
   ],
   "source": [
    "my_string.lower()"
   ]
  },
  {
   "cell_type": "code",
   "execution_count": 87,
   "id": "31ff96dd",
   "metadata": {},
   "outputs": [
    {
     "data": {
      "text/plain": [
       "'THIS IS SPARTA'"
      ]
     },
     "execution_count": 87,
     "metadata": {},
     "output_type": "execute_result"
    }
   ],
   "source": [
    "my_string.upper()"
   ]
  },
  {
   "cell_type": "code",
   "execution_count": null,
   "id": "e9d5f9c6",
   "metadata": {},
   "outputs": [],
   "source": []
  },
  {
   "cell_type": "code",
   "execution_count": null,
   "id": "1d2cc894",
   "metadata": {},
   "outputs": [],
   "source": [
    "# Replacing a substring"
   ]
  },
  {
   "cell_type": "code",
   "execution_count": 88,
   "id": "f9428baa",
   "metadata": {},
   "outputs": [
    {
     "data": {
      "text/plain": [
       "'Thare are sparta'"
      ]
     },
     "execution_count": 88,
     "metadata": {},
     "output_type": "execute_result"
    }
   ],
   "source": [
    "my_string.replace('is','are')"
   ]
  },
  {
   "cell_type": "code",
   "execution_count": 89,
   "id": "98ce3c1e",
   "metadata": {},
   "outputs": [],
   "source": [
    "str_new = 'sparta sparta 300 300 300 s'"
   ]
  },
  {
   "cell_type": "code",
   "execution_count": 90,
   "id": "1fab3cc7",
   "metadata": {},
   "outputs": [
    {
     "data": {
      "text/plain": [
       "'sparta sparta 300 300 300 s'"
      ]
     },
     "execution_count": 90,
     "metadata": {},
     "output_type": "execute_result"
    }
   ],
   "source": [
    "str_new"
   ]
  },
  {
   "cell_type": "code",
   "execution_count": 91,
   "id": "af5782f0",
   "metadata": {},
   "outputs": [
    {
     "data": {
      "text/plain": [
       "3"
      ]
     },
     "execution_count": 91,
     "metadata": {},
     "output_type": "execute_result"
    }
   ],
   "source": [
    "str_new.count('s')"
   ]
  },
  {
   "cell_type": "code",
   "execution_count": null,
   "id": "4af465ad",
   "metadata": {},
   "outputs": [],
   "source": [
    "# FInding the Index of substring"
   ]
  },
  {
   "cell_type": "code",
   "execution_count": 100,
   "id": "6899ecad",
   "metadata": {},
   "outputs": [],
   "source": [
    "my_string = 'Hello word is awsome'"
   ]
  },
  {
   "cell_type": "code",
   "execution_count": 99,
   "id": "d4303e20",
   "metadata": {},
   "outputs": [
    {
     "data": {
      "text/plain": [
       "11"
      ]
     },
     "execution_count": 99,
     "metadata": {},
     "output_type": "execute_result"
    }
   ],
   "source": [
    "my_string.find('i')"
   ]
  },
  {
   "cell_type": "code",
   "execution_count": 102,
   "id": "acc475f9",
   "metadata": {},
   "outputs": [],
   "source": [
    "str_final = 'President obama is the best president of united states'"
   ]
  },
  {
   "cell_type": "code",
   "execution_count": 103,
   "id": "4498ae0d",
   "metadata": {},
   "outputs": [
    {
     "data": {
      "text/plain": [
       "'President obama is the best president of united states'"
      ]
     },
     "execution_count": 103,
     "metadata": {},
     "output_type": "execute_result"
    }
   ],
   "source": [
    "str_final"
   ]
  },
  {
   "cell_type": "code",
   "execution_count": 104,
   "id": "2c07b4ee",
   "metadata": {},
   "outputs": [
    {
     "data": {
      "text/plain": [
       "['Pr',\n",
       " 'sid',\n",
       " 'nt obama is th',\n",
       " ' b',\n",
       " 'st pr',\n",
       " 'sid',\n",
       " 'nt of unit',\n",
       " 'd stat',\n",
       " 's']"
      ]
     },
     "execution_count": 104,
     "metadata": {},
     "output_type": "execute_result"
    }
   ],
   "source": [
    "str_final.split('e')"
   ]
  },
  {
   "cell_type": "code",
   "execution_count": null,
   "id": "3e564ddf",
   "metadata": {},
   "outputs": [],
   "source": []
  },
  {
   "cell_type": "code",
   "execution_count": 105,
   "id": "c33618b6",
   "metadata": {},
   "outputs": [],
   "source": [
    "# Tuple in Python\n",
    "# Tuples are immutable means cant changes in tuple\n",
    "# we can add hydrogenius value\n",
    "# we have to use round brases"
   ]
  },
  {
   "cell_type": "code",
   "execution_count": 106,
   "id": "3d0d11ef",
   "metadata": {},
   "outputs": [],
   "source": [
    "tup1 = (1,True,3.14,5-7j)"
   ]
  },
  {
   "cell_type": "code",
   "execution_count": 107,
   "id": "0a4bb34e",
   "metadata": {},
   "outputs": [
    {
     "data": {
      "text/plain": [
       "(1, True, 3.14, (5-7j))"
      ]
     },
     "execution_count": 107,
     "metadata": {},
     "output_type": "execute_result"
    }
   ],
   "source": [
    "tup1"
   ]
  },
  {
   "cell_type": "code",
   "execution_count": 108,
   "id": "f1138a16",
   "metadata": {},
   "outputs": [
    {
     "data": {
      "text/plain": [
       "tuple"
      ]
     },
     "execution_count": 108,
     "metadata": {},
     "output_type": "execute_result"
    }
   ],
   "source": [
    "type(tup1)"
   ]
  },
  {
   "cell_type": "code",
   "execution_count": null,
   "id": "7e1ad044",
   "metadata": {},
   "outputs": [],
   "source": [
    "# Extracting Individual Elements\n",
    "# tuple and string work same"
   ]
  },
  {
   "cell_type": "code",
   "execution_count": 109,
   "id": "2b72856d",
   "metadata": {},
   "outputs": [],
   "source": [
    "tup1 = (1,True,3.14,5-7j)"
   ]
  },
  {
   "cell_type": "code",
   "execution_count": 111,
   "id": "864059f2",
   "metadata": {},
   "outputs": [
    {
     "data": {
      "text/plain": [
       "1"
      ]
     },
     "execution_count": 111,
     "metadata": {},
     "output_type": "execute_result"
    }
   ],
   "source": [
    "tup1[0]"
   ]
  },
  {
   "cell_type": "code",
   "execution_count": 113,
   "id": "c25dc3c3",
   "metadata": {},
   "outputs": [
    {
     "data": {
      "text/plain": [
       "(5-7j)"
      ]
     },
     "execution_count": 113,
     "metadata": {},
     "output_type": "execute_result"
    }
   ],
   "source": [
    "tup1[-1]"
   ]
  },
  {
   "cell_type": "code",
   "execution_count": 114,
   "id": "b0b84bb5",
   "metadata": {},
   "outputs": [
    {
     "data": {
      "text/plain": [
       "(1, True)"
      ]
     },
     "execution_count": 114,
     "metadata": {},
     "output_type": "execute_result"
    }
   ],
   "source": [
    "tup1[0:2]"
   ]
  },
  {
   "cell_type": "code",
   "execution_count": null,
   "id": "7f660927",
   "metadata": {},
   "outputs": [],
   "source": [
    "# Modifying a Tuple\n",
    "# Tuple is immutable means cant change"
   ]
  },
  {
   "cell_type": "code",
   "execution_count": 115,
   "id": "89c11eb6",
   "metadata": {},
   "outputs": [
    {
     "ename": "TypeError",
     "evalue": "'tuple' object does not support item assignment",
     "output_type": "error",
     "traceback": [
      "\u001b[1;31m---------------------------------------------------------------------------\u001b[0m",
      "\u001b[1;31mTypeError\u001b[0m                                 Traceback (most recent call last)",
      "\u001b[1;32m~\\AppData\\Local\\Temp\\ipykernel_73732\\1114842419.py\u001b[0m in \u001b[0;36m<module>\u001b[1;34m\u001b[0m\n\u001b[1;32m----> 1\u001b[1;33m \u001b[0mtup1\u001b[0m\u001b[1;33m[\u001b[0m\u001b[1;36m2\u001b[0m\u001b[1;33m]\u001b[0m \u001b[1;33m=\u001b[0m \u001b[1;34m'Hello word'\u001b[0m\u001b[1;33m\u001b[0m\u001b[1;33m\u001b[0m\u001b[0m\n\u001b[0m",
      "\u001b[1;31mTypeError\u001b[0m: 'tuple' object does not support item assignment"
     ]
    }
   ],
   "source": [
    "tup1[2] = 'Hello word'"
   ]
  },
  {
   "cell_type": "code",
   "execution_count": null,
   "id": "7c2a117f",
   "metadata": {},
   "outputs": [],
   "source": [
    "# Tuple Basic Operations\n",
    "# Finding length of Tuple\n",
    "# Concatenating of Tuple means Join"
   ]
  },
  {
   "cell_type": "code",
   "execution_count": 116,
   "id": "71ae6622",
   "metadata": {},
   "outputs": [
    {
     "data": {
      "text/plain": [
       "4"
      ]
     },
     "execution_count": 116,
     "metadata": {},
     "output_type": "execute_result"
    }
   ],
   "source": [
    "len(tup1)"
   ]
  },
  {
   "cell_type": "code",
   "execution_count": 117,
   "id": "b522a35c",
   "metadata": {},
   "outputs": [],
   "source": [
    "tup1 = (1,2,3)\n",
    "tup2 = (4,5,6)"
   ]
  },
  {
   "cell_type": "code",
   "execution_count": 118,
   "id": "96fe6896",
   "metadata": {},
   "outputs": [
    {
     "data": {
      "text/plain": [
       "((1, 2, 3), (4, 5, 6))"
      ]
     },
     "execution_count": 118,
     "metadata": {},
     "output_type": "execute_result"
    }
   ],
   "source": [
    "tup1,tup2"
   ]
  },
  {
   "cell_type": "code",
   "execution_count": 119,
   "id": "4aaa7837",
   "metadata": {},
   "outputs": [
    {
     "data": {
      "text/plain": [
       "(1, 2, 3, 4, 5, 6)"
      ]
     },
     "execution_count": 119,
     "metadata": {},
     "output_type": "execute_result"
    }
   ],
   "source": [
    "tup1 + tup2"
   ]
  },
  {
   "cell_type": "code",
   "execution_count": 120,
   "id": "6f40af43",
   "metadata": {},
   "outputs": [
    {
     "data": {
      "text/plain": [
       "(4, 5, 6, 1, 2, 3)"
      ]
     },
     "execution_count": 120,
     "metadata": {},
     "output_type": "execute_result"
    }
   ],
   "source": [
    "tup2 + tup1"
   ]
  },
  {
   "cell_type": "code",
   "execution_count": null,
   "id": "d60fd085",
   "metadata": {},
   "outputs": [],
   "source": [
    "# Repeating Tuple Elements\n",
    "# Repeating and Concanating"
   ]
  },
  {
   "cell_type": "code",
   "execution_count": 121,
   "id": "2326860a",
   "metadata": {},
   "outputs": [
    {
     "data": {
      "text/plain": [
       "(1, 2, 3, 1, 2, 3, 1, 2, 3, 1, 2, 3, 1, 2, 3)"
      ]
     },
     "execution_count": 121,
     "metadata": {},
     "output_type": "execute_result"
    }
   ],
   "source": [
    "tup1*5"
   ]
  },
  {
   "cell_type": "code",
   "execution_count": 122,
   "id": "c15b32e5",
   "metadata": {},
   "outputs": [
    {
     "data": {
      "text/plain": [
       "(1, 2, 3, 1, 2, 3, 1, 2, 3, 1, 2, 3, 1, 2, 3, 4, 5, 6)"
      ]
     },
     "execution_count": 122,
     "metadata": {},
     "output_type": "execute_result"
    }
   ],
   "source": [
    "tup1*5 + tup2"
   ]
  },
  {
   "cell_type": "code",
   "execution_count": null,
   "id": "9e016432",
   "metadata": {},
   "outputs": [],
   "source": [
    "# Tuple Functions\n",
    "# Minimum Value\n",
    "# Maximum Value"
   ]
  },
  {
   "cell_type": "code",
   "execution_count": 123,
   "id": "263942f2",
   "metadata": {},
   "outputs": [],
   "source": [
    "tup1 = (10,20,30,40,50,60)"
   ]
  },
  {
   "cell_type": "code",
   "execution_count": 124,
   "id": "63ec2ede",
   "metadata": {},
   "outputs": [
    {
     "data": {
      "text/plain": [
       "10"
      ]
     },
     "execution_count": 124,
     "metadata": {},
     "output_type": "execute_result"
    }
   ],
   "source": [
    "min(tup1)"
   ]
  },
  {
   "cell_type": "code",
   "execution_count": 125,
   "id": "b25dcfea",
   "metadata": {},
   "outputs": [
    {
     "data": {
      "text/plain": [
       "60"
      ]
     },
     "execution_count": 125,
     "metadata": {},
     "output_type": "execute_result"
    }
   ],
   "source": [
    "max(tup1)"
   ]
  },
  {
   "cell_type": "code",
   "execution_count": null,
   "id": "84bcda01",
   "metadata": {},
   "outputs": [],
   "source": [
    "# List in Python\n",
    "# List ins mutable means you can modify it\n",
    "# List make by square brases\n"
   ]
  },
  {
   "cell_type": "code",
   "execution_count": 126,
   "id": "8f3f1703",
   "metadata": {},
   "outputs": [],
   "source": [
    "l1 = [1,'Sparta',3.14,True]"
   ]
  },
  {
   "cell_type": "code",
   "execution_count": 127,
   "id": "0d2a4890",
   "metadata": {},
   "outputs": [
    {
     "data": {
      "text/plain": [
       "[1, 'Sparta', 3.14, True]"
      ]
     },
     "execution_count": 127,
     "metadata": {},
     "output_type": "execute_result"
    }
   ],
   "source": [
    "l1"
   ]
  },
  {
   "cell_type": "code",
   "execution_count": 128,
   "id": "4c45e975",
   "metadata": {},
   "outputs": [
    {
     "data": {
      "text/plain": [
       "list"
      ]
     },
     "execution_count": 128,
     "metadata": {},
     "output_type": "execute_result"
    }
   ],
   "source": [
    "type(l1)"
   ]
  },
  {
   "cell_type": "code",
   "execution_count": null,
   "id": "0aa02368",
   "metadata": {},
   "outputs": [],
   "source": [
    "# Extracting Indivisual Elements\n"
   ]
  },
  {
   "cell_type": "code",
   "execution_count": 130,
   "id": "50f8a9b6",
   "metadata": {},
   "outputs": [
    {
     "data": {
      "text/plain": [
       "1"
      ]
     },
     "execution_count": 130,
     "metadata": {},
     "output_type": "execute_result"
    }
   ],
   "source": [
    "l1[0]"
   ]
  },
  {
   "cell_type": "markdown",
   "id": "8066ae31",
   "metadata": {},
   "source": []
  },
  {
   "cell_type": "code",
   "execution_count": 131,
   "id": "e0cfa9c7",
   "metadata": {},
   "outputs": [
    {
     "data": {
      "text/plain": [
       "True"
      ]
     },
     "execution_count": 131,
     "metadata": {},
     "output_type": "execute_result"
    }
   ],
   "source": [
    "l1[-1]"
   ]
  },
  {
   "cell_type": "code",
   "execution_count": 132,
   "id": "398904b9",
   "metadata": {},
   "outputs": [
    {
     "data": {
      "text/plain": [
       "['Sparta', 3.14]"
      ]
     },
     "execution_count": 132,
     "metadata": {},
     "output_type": "execute_result"
    }
   ],
   "source": [
    "l1[1:3]"
   ]
  },
  {
   "cell_type": "code",
   "execution_count": null,
   "id": "0254ec4f",
   "metadata": {},
   "outputs": [],
   "source": []
  },
  {
   "cell_type": "code",
   "execution_count": null,
   "id": "a44f6305",
   "metadata": {},
   "outputs": [],
   "source": [
    "# Changing the elements at 0th index\n",
    "# Appending a new element\n",
    "# Popping the last element"
   ]
  },
  {
   "cell_type": "code",
   "execution_count": 133,
   "id": "80b707e4",
   "metadata": {},
   "outputs": [
    {
     "data": {
      "text/plain": [
       "[1, 'Sparta', 3.14, True]"
      ]
     },
     "execution_count": 133,
     "metadata": {},
     "output_type": "execute_result"
    }
   ],
   "source": [
    "l1"
   ]
  },
  {
   "cell_type": "code",
   "execution_count": 137,
   "id": "22bcaf5c",
   "metadata": {},
   "outputs": [
    {
     "data": {
      "text/plain": [
       "[100, 'Sparta', 3.14, True]"
      ]
     },
     "execution_count": 137,
     "metadata": {},
     "output_type": "execute_result"
    }
   ],
   "source": [
    "l1[0] = 100\n",
    "l1\n"
   ]
  },
  {
   "cell_type": "code",
   "execution_count": 138,
   "id": "2352cefc",
   "metadata": {},
   "outputs": [
    {
     "data": {
      "text/plain": [
       "[100, 'Sparta', 3.14, True]"
      ]
     },
     "execution_count": 138,
     "metadata": {},
     "output_type": "execute_result"
    }
   ],
   "source": [
    "l1"
   ]
  },
  {
   "cell_type": "markdown",
   "id": "6c796363",
   "metadata": {},
   "source": []
  },
  {
   "cell_type": "code",
   "execution_count": 139,
   "id": "04e5202c",
   "metadata": {},
   "outputs": [],
   "source": [
    "l1.append(-87.99)"
   ]
  },
  {
   "cell_type": "code",
   "execution_count": 140,
   "id": "c18a4f1b",
   "metadata": {},
   "outputs": [
    {
     "data": {
      "text/plain": [
       "[100, 'Sparta', 3.14, True, -87.99]"
      ]
     },
     "execution_count": 140,
     "metadata": {},
     "output_type": "execute_result"
    }
   ],
   "source": [
    "l1"
   ]
  },
  {
   "cell_type": "code",
   "execution_count": 141,
   "id": "222cc280",
   "metadata": {},
   "outputs": [
    {
     "data": {
      "text/plain": [
       "-87.99"
      ]
     },
     "execution_count": 141,
     "metadata": {},
     "output_type": "execute_result"
    }
   ],
   "source": [
    "l1.pop()"
   ]
  },
  {
   "cell_type": "code",
   "execution_count": 142,
   "id": "1a48c75b",
   "metadata": {},
   "outputs": [
    {
     "data": {
      "text/plain": [
       "[100, 'Sparta', 3.14, True]"
      ]
     },
     "execution_count": 142,
     "metadata": {},
     "output_type": "execute_result"
    }
   ],
   "source": [
    "l1"
   ]
  },
  {
   "cell_type": "code",
   "execution_count": null,
   "id": "4764864b",
   "metadata": {},
   "outputs": [],
   "source": [
    "# Reversing Elements of a list\n",
    "# Inserting Elements at a specified index\n",
    "# Sorting a list"
   ]
  },
  {
   "cell_type": "code",
   "execution_count": 143,
   "id": "73810dd6",
   "metadata": {},
   "outputs": [],
   "source": [
    "l1 = ['434',12,90,23,True,False]"
   ]
  },
  {
   "cell_type": "code",
   "execution_count": 144,
   "id": "838a5161",
   "metadata": {},
   "outputs": [
    {
     "data": {
      "text/plain": [
       "['434', 12, 90, 23, True, False]"
      ]
     },
     "execution_count": 144,
     "metadata": {},
     "output_type": "execute_result"
    }
   ],
   "source": [
    "l1"
   ]
  },
  {
   "cell_type": "code",
   "execution_count": 145,
   "id": "21510573",
   "metadata": {},
   "outputs": [],
   "source": [
    "l1.reverse()"
   ]
  },
  {
   "cell_type": "code",
   "execution_count": 146,
   "id": "f56acf8d",
   "metadata": {},
   "outputs": [
    {
     "data": {
      "text/plain": [
       "[False, True, 23, 90, 12, '434']"
      ]
     },
     "execution_count": 146,
     "metadata": {},
     "output_type": "execute_result"
    }
   ],
   "source": [
    "l1"
   ]
  },
  {
   "cell_type": "code",
   "execution_count": 148,
   "id": "384c487c",
   "metadata": {},
   "outputs": [],
   "source": [
    "l1.insert(3,'Hello')"
   ]
  },
  {
   "cell_type": "code",
   "execution_count": 149,
   "id": "0d5fb972",
   "metadata": {},
   "outputs": [
    {
     "data": {
      "text/plain": [
       "[False, True, 23, 'Hello', 90, 12, '434']"
      ]
     },
     "execution_count": 149,
     "metadata": {},
     "output_type": "execute_result"
    }
   ],
   "source": [
    "l1"
   ]
  },
  {
   "cell_type": "code",
   "execution_count": 150,
   "id": "16ab5ee7",
   "metadata": {},
   "outputs": [],
   "source": [
    "l1 = ['a','f','d','b','z']"
   ]
  },
  {
   "cell_type": "code",
   "execution_count": 151,
   "id": "47b85361",
   "metadata": {},
   "outputs": [
    {
     "data": {
      "text/plain": [
       "['a', 'f', 'd', 'b', 'z']"
      ]
     },
     "execution_count": 151,
     "metadata": {},
     "output_type": "execute_result"
    }
   ],
   "source": [
    "l1"
   ]
  },
  {
   "cell_type": "code",
   "execution_count": 153,
   "id": "738d818d",
   "metadata": {},
   "outputs": [],
   "source": [
    "l1.sort()"
   ]
  },
  {
   "cell_type": "code",
   "execution_count": 154,
   "id": "e9c473a0",
   "metadata": {},
   "outputs": [
    {
     "data": {
      "text/plain": [
       "['a', 'b', 'd', 'f', 'z']"
      ]
     },
     "execution_count": 154,
     "metadata": {},
     "output_type": "execute_result"
    }
   ],
   "source": [
    "l1"
   ]
  },
  {
   "cell_type": "code",
   "execution_count": null,
   "id": "ad4f7c42",
   "metadata": {},
   "outputs": [],
   "source": []
  },
  {
   "cell_type": "code",
   "execution_count": null,
   "id": "3e66e4d9",
   "metadata": {},
   "outputs": [],
   "source": [
    "# Concatenating Lists\n",
    "# Repeating Elements"
   ]
  },
  {
   "cell_type": "code",
   "execution_count": 155,
   "id": "72a11593",
   "metadata": {},
   "outputs": [
    {
     "data": {
      "text/plain": [
       "['a', 'b', 'd', 'f', 'z']"
      ]
     },
     "execution_count": 155,
     "metadata": {},
     "output_type": "execute_result"
    }
   ],
   "source": [
    "l1"
   ]
  },
  {
   "cell_type": "code",
   "execution_count": 156,
   "id": "7dc7fc6b",
   "metadata": {},
   "outputs": [],
   "source": [
    "l2 = ['apple','banana','mango']"
   ]
  },
  {
   "cell_type": "code",
   "execution_count": 157,
   "id": "1c89a431",
   "metadata": {},
   "outputs": [
    {
     "data": {
      "text/plain": [
       "['apple', 'banana', 'mango']"
      ]
     },
     "execution_count": 157,
     "metadata": {},
     "output_type": "execute_result"
    }
   ],
   "source": [
    "l2"
   ]
  },
  {
   "cell_type": "code",
   "execution_count": 159,
   "id": "cfde703c",
   "metadata": {},
   "outputs": [
    {
     "data": {
      "text/plain": [
       "['apple',\n",
       " 'banana',\n",
       " 'mango',\n",
       " 'apple',\n",
       " 'banana',\n",
       " 'mango',\n",
       " 'apple',\n",
       " 'banana',\n",
       " 'mango',\n",
       " 'apple',\n",
       " 'banana',\n",
       " 'mango',\n",
       " 'apple',\n",
       " 'banana',\n",
       " 'mango',\n",
       " 'a',\n",
       " 'b',\n",
       " 'd',\n",
       " 'f',\n",
       " 'z']"
      ]
     },
     "execution_count": 159,
     "metadata": {},
     "output_type": "execute_result"
    }
   ],
   "source": [
    "l2*5+l1"
   ]
  },
  {
   "cell_type": "code",
   "execution_count": null,
   "id": "f7e3c0ad",
   "metadata": {},
   "outputs": [],
   "source": []
  },
  {
   "cell_type": "code",
   "execution_count": null,
   "id": "ae329d5f",
   "metadata": {},
   "outputs": [],
   "source": [
    "# Dictionary in Python\n",
    "# Dictionary is mutable you can change the elements\n",
    "# you create the dictionry with the curly brases"
   ]
  },
  {
   "cell_type": "code",
   "execution_count": 160,
   "id": "839ddafd",
   "metadata": {},
   "outputs": [],
   "source": [
    "d1 = {'Apple':50,'Mango':100,'Guava':200,'Banana':500}"
   ]
  },
  {
   "cell_type": "code",
   "execution_count": 161,
   "id": "cace6d10",
   "metadata": {},
   "outputs": [
    {
     "data": {
      "text/plain": [
       "{'Apple': 50, 'Mango': 100, 'Guava': 200, 'Banana': 500}"
      ]
     },
     "execution_count": 161,
     "metadata": {},
     "output_type": "execute_result"
    }
   ],
   "source": [
    "d1"
   ]
  },
  {
   "cell_type": "code",
   "execution_count": 162,
   "id": "cb54f90b",
   "metadata": {},
   "outputs": [
    {
     "data": {
      "text/plain": [
       "dict"
      ]
     },
     "execution_count": 162,
     "metadata": {},
     "output_type": "execute_result"
    }
   ],
   "source": [
    "type(d1)"
   ]
  },
  {
   "cell_type": "code",
   "execution_count": null,
   "id": "68ba757a",
   "metadata": {},
   "outputs": [],
   "source": []
  },
  {
   "cell_type": "code",
   "execution_count": null,
   "id": "7412fd2e",
   "metadata": {},
   "outputs": [],
   "source": [
    "# Extracting Keys\n",
    "# Extracting Values"
   ]
  },
  {
   "cell_type": "code",
   "execution_count": 163,
   "id": "50b1cbec",
   "metadata": {},
   "outputs": [
    {
     "data": {
      "text/plain": [
       "{'Apple': 50, 'Mango': 100, 'Guava': 200, 'Banana': 500}"
      ]
     },
     "execution_count": 163,
     "metadata": {},
     "output_type": "execute_result"
    }
   ],
   "source": [
    "d1"
   ]
  },
  {
   "cell_type": "code",
   "execution_count": 164,
   "id": "53c748e2",
   "metadata": {},
   "outputs": [
    {
     "data": {
      "text/plain": [
       "dict_keys(['Apple', 'Mango', 'Guava', 'Banana'])"
      ]
     },
     "execution_count": 164,
     "metadata": {},
     "output_type": "execute_result"
    }
   ],
   "source": [
    "d1.keys()"
   ]
  },
  {
   "cell_type": "code",
   "execution_count": 165,
   "id": "bb301d7a",
   "metadata": {},
   "outputs": [
    {
     "data": {
      "text/plain": [
       "dict_values([50, 100, 200, 500])"
      ]
     },
     "execution_count": 165,
     "metadata": {},
     "output_type": "execute_result"
    }
   ],
   "source": [
    "d1.values()"
   ]
  },
  {
   "cell_type": "code",
   "execution_count": null,
   "id": "e7e7fbcb",
   "metadata": {},
   "outputs": [],
   "source": []
  },
  {
   "cell_type": "code",
   "execution_count": null,
   "id": "d2b3b2c6",
   "metadata": {},
   "outputs": [],
   "source": [
    "# Adding a new elements\n",
    "# Changing an existing elements"
   ]
  },
  {
   "cell_type": "code",
   "execution_count": 166,
   "id": "24c29b12",
   "metadata": {},
   "outputs": [
    {
     "data": {
      "text/plain": [
       "{'Apple': 50, 'Mango': 100, 'Guava': 200, 'Banana': 500}"
      ]
     },
     "execution_count": 166,
     "metadata": {},
     "output_type": "execute_result"
    }
   ],
   "source": [
    "d1"
   ]
  },
  {
   "cell_type": "code",
   "execution_count": 167,
   "id": "fa27f463",
   "metadata": {},
   "outputs": [],
   "source": [
    "d1['Orange'] = 5"
   ]
  },
  {
   "cell_type": "code",
   "execution_count": 168,
   "id": "d1c2fa72",
   "metadata": {},
   "outputs": [
    {
     "data": {
      "text/plain": [
       "{'Apple': 50, 'Mango': 100, 'Guava': 200, 'Banana': 500, 'Orange': 5}"
      ]
     },
     "execution_count": 168,
     "metadata": {},
     "output_type": "execute_result"
    }
   ],
   "source": [
    "d1"
   ]
  },
  {
   "cell_type": "code",
   "execution_count": 169,
   "id": "6a1d6b3a",
   "metadata": {},
   "outputs": [],
   "source": [
    "d1['Banana'] = 1"
   ]
  },
  {
   "cell_type": "code",
   "execution_count": 170,
   "id": "56cf4e65",
   "metadata": {},
   "outputs": [
    {
     "data": {
      "text/plain": [
       "{'Apple': 50, 'Mango': 100, 'Guava': 200, 'Banana': 1, 'Orange': 5}"
      ]
     },
     "execution_count": 170,
     "metadata": {},
     "output_type": "execute_result"
    }
   ],
   "source": [
    "d1"
   ]
  },
  {
   "cell_type": "code",
   "execution_count": null,
   "id": "67a7fdf3",
   "metadata": {},
   "outputs": [],
   "source": []
  },
  {
   "cell_type": "code",
   "execution_count": null,
   "id": "9674b234",
   "metadata": {},
   "outputs": [],
   "source": [
    "# Update one dictionary's elements with another\n",
    "\n",
    "# Popping an element"
   ]
  },
  {
   "cell_type": "code",
   "execution_count": 171,
   "id": "bc77d504",
   "metadata": {},
   "outputs": [
    {
     "data": {
      "text/plain": [
       "{'Apple': 50, 'Mango': 100, 'Guava': 200, 'Banana': 1, 'Orange': 5}"
      ]
     },
     "execution_count": 171,
     "metadata": {},
     "output_type": "execute_result"
    }
   ],
   "source": [
    "d1"
   ]
  },
  {
   "cell_type": "code",
   "execution_count": 172,
   "id": "9b6ad525",
   "metadata": {},
   "outputs": [],
   "source": [
    "d2 = {'Watermelon':1000,'Grapes':50,'Muskmelon':850}"
   ]
  },
  {
   "cell_type": "code",
   "execution_count": 173,
   "id": "b31cffab",
   "metadata": {},
   "outputs": [
    {
     "data": {
      "text/plain": [
       "{'Watermelon': 1000, 'Grapes': 50, 'Muskmelon': 850}"
      ]
     },
     "execution_count": 173,
     "metadata": {},
     "output_type": "execute_result"
    }
   ],
   "source": [
    "d2"
   ]
  },
  {
   "cell_type": "code",
   "execution_count": 177,
   "id": "88a535b9",
   "metadata": {},
   "outputs": [],
   "source": [
    "d1.update(d2)"
   ]
  },
  {
   "cell_type": "code",
   "execution_count": 178,
   "id": "01ef741a",
   "metadata": {},
   "outputs": [
    {
     "data": {
      "text/plain": [
       "{'Apple': 50,\n",
       " 'Mango': 100,\n",
       " 'Guava': 200,\n",
       " 'Banana': 1,\n",
       " 'Orange': 5,\n",
       " 'Watermelon': 1000,\n",
       " 'Grapes': 50,\n",
       " 'Muskmelon': 850}"
      ]
     },
     "execution_count": 178,
     "metadata": {},
     "output_type": "execute_result"
    }
   ],
   "source": [
    "d1"
   ]
  },
  {
   "cell_type": "code",
   "execution_count": 182,
   "id": "e08e0b49",
   "metadata": {},
   "outputs": [
    {
     "data": {
      "text/plain": [
       "1"
      ]
     },
     "execution_count": 182,
     "metadata": {},
     "output_type": "execute_result"
    }
   ],
   "source": [
    "d1.pop('Banana')"
   ]
  },
  {
   "cell_type": "code",
   "execution_count": 183,
   "id": "93437982",
   "metadata": {},
   "outputs": [
    {
     "data": {
      "text/plain": [
       "{'Apple': 50,\n",
       " 'Mango': 100,\n",
       " 'Guava': 200,\n",
       " 'Orange': 5,\n",
       " 'Grapes': 50,\n",
       " 'Muskmelon': 850}"
      ]
     },
     "execution_count": 183,
     "metadata": {},
     "output_type": "execute_result"
    }
   ],
   "source": [
    "d1"
   ]
  },
  {
   "cell_type": "code",
   "execution_count": 180,
   "id": "659ce376",
   "metadata": {},
   "outputs": [
    {
     "data": {
      "text/plain": [
       "1000"
      ]
     },
     "execution_count": 180,
     "metadata": {},
     "output_type": "execute_result"
    }
   ],
   "source": [
    "d1.pop('Watermelon')"
   ]
  },
  {
   "cell_type": "code",
   "execution_count": 184,
   "id": "8b2bcd78",
   "metadata": {},
   "outputs": [
    {
     "data": {
      "text/plain": [
       "{'Apple': 50,\n",
       " 'Mango': 100,\n",
       " 'Guava': 200,\n",
       " 'Orange': 5,\n",
       " 'Grapes': 50,\n",
       " 'Muskmelon': 850}"
      ]
     },
     "execution_count": 184,
     "metadata": {},
     "output_type": "execute_result"
    }
   ],
   "source": [
    "d1"
   ]
  },
  {
   "cell_type": "code",
   "execution_count": 185,
   "id": "8b7e5f89",
   "metadata": {},
   "outputs": [
    {
     "data": {
      "text/plain": [
       "{'Apple': 50,\n",
       " 'Mango': 100,\n",
       " 'Guava': 200,\n",
       " 'Orange': 5,\n",
       " 'Grapes': 50,\n",
       " 'Muskmelon': 850}"
      ]
     },
     "execution_count": 185,
     "metadata": {},
     "output_type": "execute_result"
    }
   ],
   "source": [
    "d1"
   ]
  },
  {
   "cell_type": "code",
   "execution_count": 186,
   "id": "16bc23d3",
   "metadata": {},
   "outputs": [
    {
     "data": {
      "text/plain": [
       "{'Apple': 50,\n",
       " 'Mango': 100,\n",
       " 'Guava': 200,\n",
       " 'Orange': 5,\n",
       " 'Grapes': 50,\n",
       " 'Muskmelon': 850}"
      ]
     },
     "execution_count": 186,
     "metadata": {},
     "output_type": "execute_result"
    }
   ],
   "source": [
    "d1"
   ]
  },
  {
   "cell_type": "code",
   "execution_count": 181,
   "id": "09f9e299",
   "metadata": {},
   "outputs": [
    {
     "data": {
      "text/plain": [
       "{'Apple': 50,\n",
       " 'Mango': 100,\n",
       " 'Guava': 200,\n",
       " 'Banana': 1,\n",
       " 'Orange': 5,\n",
       " 'Grapes': 50,\n",
       " 'Muskmelon': 850}"
      ]
     },
     "execution_count": 181,
     "metadata": {},
     "output_type": "execute_result"
    }
   ],
   "source": [
    "d1"
   ]
  },
  {
   "cell_type": "code",
   "execution_count": null,
   "id": "eb442797",
   "metadata": {},
   "outputs": [],
   "source": []
  },
  {
   "cell_type": "code",
   "execution_count": null,
   "id": "ef82b68f",
   "metadata": {},
   "outputs": [],
   "source": []
  },
  {
   "cell_type": "code",
   "execution_count": null,
   "id": "f8f39c24",
   "metadata": {},
   "outputs": [],
   "source": []
  }
 ],
 "metadata": {
  "kernelspec": {
   "display_name": "Python 3 (ipykernel)",
   "language": "python",
   "name": "python3"
  },
  "language_info": {
   "codemirror_mode": {
    "name": "ipython",
    "version": 3
   },
   "file_extension": ".py",
   "mimetype": "text/x-python",
   "name": "python",
   "nbconvert_exporter": "python",
   "pygments_lexer": "ipython3",
   "version": "3.9.13"
  }
 },
 "nbformat": 4,
 "nbformat_minor": 5
}
